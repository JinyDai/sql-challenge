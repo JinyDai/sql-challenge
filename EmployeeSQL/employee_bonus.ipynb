{
 "cells": [
  {
   "cell_type": "code",
   "execution_count": 5,
   "metadata": {},
   "outputs": [],
   "source": [
    "#import dependencies\n",
    "#import sql alchemy\n",
    "from sqlalchemy import create_engine\n",
    "#import pandas\n",
    "import pandas as pd\n",
    "#import Matplotlib\n",
    "import matplotlib.pyplot as plt\n",
    "#import NumPy\n",
    "import numpy as np\n",
    "#import possword\n",
    "from config import pw"
   ]
  },
  {
   "cell_type": "code",
   "execution_count": null,
   "metadata": {},
   "outputs": [],
   "source": [
    "#create path for sql file\n",
    "engine = create_engine('postgresql://localhost:5432/schemata.sql')\n",
    "connection = engine.connect()"
   ]
  },
  {
   "cell_type": "code",
   "execution_count": null,
   "metadata": {},
   "outputs": [],
   "source": []
  }
 ],
 "metadata": {
  "kernelspec": {
   "display_name": "Python 3",
   "language": "python",
   "name": "python3"
  },
  "language_info": {
   "codemirror_mode": {
    "name": "ipython",
    "version": 3
   },
   "file_extension": ".py",
   "mimetype": "text/x-python",
   "name": "python",
   "nbconvert_exporter": "python",
   "pygments_lexer": "ipython3",
   "version": "3.7.4"
  }
 },
 "nbformat": 4,
 "nbformat_minor": 2
}
